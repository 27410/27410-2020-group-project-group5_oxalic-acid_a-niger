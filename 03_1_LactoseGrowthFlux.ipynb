{
 "cells": [
  {
   "cell_type": "code",
   "execution_count": 1,
   "metadata": {},
   "outputs": [],
   "source": [
    "from cobra.io import read_sbml_model\n"
   ]
  },
  {
   "cell_type": "code",
   "execution_count": 2,
   "metadata": {},
   "outputs": [
    {
     "name": "stderr",
     "output_type": "stream",
     "text": [
      "'' is not a valid SBML 'SId'.\n"
     ]
    }
   ],
   "source": [
    "model = read_sbml_model('Model_iJB1325_ATCC1015.xml')\n"
   ]
  },
  {
   "cell_type": "markdown",
   "metadata": {},
   "source": [
    "One other thing the reference paper states, is that milk whey in form of lactose can be used as a carbon source and was proven to be a similar good substrate for oxalate production, with high yields and high productivities. Therefore, the media is changed towards lactose being the only carbon source. "
   ]
  },
  {
   "cell_type": "code",
   "execution_count": 3,
   "metadata": {},
   "outputs": [],
   "source": [
    "medium_lac = model.medium\n",
    "medium_lac['BOUNDARY_GLCe']=0\n",
    "medium_lac['BOUNDARY_SUCe']=0\n",
    "medium_lac['BOUNDARY_LACTe']=10\n",
    "model.medium=medium_lac\n",
    "solution = model.optimize()"
   ]
  },
  {
   "cell_type": "markdown",
   "metadata": {},
   "source": [
    "Thus, after exchanging the previous carbon source for lactose also the flux for the key reactions r51, r52 and GOOR with the malate dehydrogenase reaction being knocked-out are performed."
   ]
  },
  {
   "cell_type": "code",
   "execution_count": 4,
   "metadata": {},
   "outputs": [],
   "source": [
    "from cobra import Reaction, Metabolite"
   ]
  },
  {
   "cell_type": "code",
   "execution_count": 5,
   "metadata": {},
   "outputs": [],
   "source": [
    "new_reaction = Reaction('GOOR') #for glyoxylate oxidoreductase reaction"
   ]
  },
  {
   "cell_type": "code",
   "execution_count": 6,
   "metadata": {},
   "outputs": [],
   "source": [
    "new_reaction.add_metabolites({model.metabolites.GLX: -1,\n",
    "                              model.metabolites.H2O: -1,\n",
    "                              model.metabolites.O2: -1,\n",
    "                              model.metabolites.OXAL: 1,\n",
    "                              model.metabolites.H2O2: 1\n",
    "                             })"
   ]
  },
  {
   "cell_type": "code",
   "execution_count": 7,
   "metadata": {},
   "outputs": [
    {
     "name": "stdout",
     "output_type": "stream",
     "text": [
      "GLX + H2O + O2 --> H2O2 + OXAL\n"
     ]
    }
   ],
   "source": [
    "print(new_reaction.build_reaction_string())"
   ]
  },
  {
   "cell_type": "code",
   "execution_count": 8,
   "metadata": {},
   "outputs": [],
   "source": [
    "model.add_reactions([new_reaction])"
   ]
  },
  {
   "cell_type": "markdown",
   "metadata": {},
   "source": [
    "For be able to compare the different carbon sources also on a product level, a closer look is taken at the fluxes of the target reactions r51 and GOOR. The knockouts which are performed in the code are targeting the malate dehydrogenase, to only consider the flux from citrate to oxalate. "
   ]
  },
  {
   "cell_type": "code",
   "execution_count": 9,
   "metadata": {},
   "outputs": [
    {
     "name": "stdout",
     "output_type": "stream",
     "text": [
      "1.8797094482985102\n",
      "871.1340206185598\n",
      "239.99999999999906\n"
     ]
    }
   ],
   "source": [
    "with model:\n",
    "    print(model.slim_optimize())\n",
    "    model.objective = model.reactions.r51\n",
    "    print(model.optimize().objective_value)\n",
    "    model.genes.get_by_id('1143651').knock_out() \n",
    "    model.genes.get_by_id('1172632').knock_out()\n",
    "    model.genes.get_by_id('48047').knock_out()\n",
    "    model.objective = model.reactions.GOOR\n",
    "    print(model.optimize().objective_value)\n",
    "   "
   ]
  },
  {
   "cell_type": "markdown",
   "metadata": {},
   "source": [
    "Looking at the resulting values, it is apparent that they do not differ from the values generated from sucrose being the only carbon source. This confirms the statement from the reference paper that lactose can serve as an equally well-suited carbon source for the production of oxalic acid. "
   ]
  },
  {
   "cell_type": "code",
   "execution_count": null,
   "metadata": {},
   "outputs": [],
   "source": []
  }
 ],
 "metadata": {
  "kernelspec": {
   "display_name": "Python 3",
   "language": "python",
   "name": "python3"
  },
  "language_info": {
   "codemirror_mode": {
    "name": "ipython",
    "version": 3
   },
   "file_extension": ".py",
   "mimetype": "text/x-python",
   "name": "python",
   "nbconvert_exporter": "python",
   "pygments_lexer": "ipython3",
   "version": "3.8.5"
  }
 },
 "nbformat": 4,
 "nbformat_minor": 4
}
