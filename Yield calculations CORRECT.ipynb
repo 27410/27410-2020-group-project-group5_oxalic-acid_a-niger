{
 "cells": [
  {
   "cell_type": "markdown",
   "metadata": {},
   "source": [
    "\n",
    "# Maximum Theoretical Yields and Medium characterization"
   ]
  },
  {
   "cell_type": "markdown",
   "metadata": {},
   "source": [
    "## Growth, Oxalate production and Maximum theoretical yields for different conditions for A.Niger"
   ]
  },
  {
   "cell_type": "markdown",
   "metadata": {},
   "source": [
    "We calculate the maximum theoretical yield for sucrose as the carbon source for oxalic acid computationally.\n",
    "\n",
    "Knowing that our model  medium is run with glucose we first check the growth rate, productivity and yield with glucose as a carbon source employing the \"BOUNDARY_OXALe\" reaction, which is the exchange reaction responsible for Oxalic acid excretion.\n",
    "\n"
   ]
  },
  {
   "cell_type": "markdown",
   "metadata": {},
   "source": [
    "We want to find the reaction that excretes Oxalic acid. We import our model and start the search\n"
   ]
  },
  {
   "cell_type": "code",
   "execution_count": 1,
   "metadata": {},
   "outputs": [
    {
     "name": "stderr",
     "output_type": "stream",
     "text": [
      "'' is not a valid SBML 'SId'.\n"
     ]
    }
   ],
   "source": [
    "from cobra.io import read_sbml_model\n",
    "model = read_sbml_model(\"Model_iJB1325_ATCC1015.xml\")"
   ]
  },
  {
   "cell_type": "markdown",
   "metadata": {},
   "source": [
    "model.exchanges #this command lets you see all the exchange reactions the model contains"
   ]
  },
  {
   "cell_type": "markdown",
   "metadata": {},
   "source": [
    "We find the desired reaction: BOUNDARY_OXALe"
   ]
  },
  {
   "cell_type": "code",
   "execution_count": 2,
   "metadata": {},
   "outputs": [
    {
     "data": {
      "text/html": [
       "\n",
       "        <table>\n",
       "            <tr>\n",
       "                <td><strong>Reaction identifier</strong></td><td>BOUNDARY_OXALe</td>\n",
       "            </tr><tr>\n",
       "                <td><strong>Name</strong></td><td></td>\n",
       "            </tr><tr>\n",
       "                <td><strong>Memory address</strong></td>\n",
       "                <td>0x07f4763171220</td>\n",
       "            </tr><tr>\n",
       "                <td><strong>Stoichiometry</strong></td>\n",
       "                <td>\n",
       "                    <p style='text-align:right'>OXALe --></p>\n",
       "                    <p style='text-align:right'>Oxalate (extracellular) --></p>\n",
       "                </td>\n",
       "            </tr><tr>\n",
       "                <td><strong>GPR</strong></td><td></td>\n",
       "            </tr><tr>\n",
       "                <td><strong>Lower bound</strong></td><td>0.0</td>\n",
       "            </tr><tr>\n",
       "                <td><strong>Upper bound</strong></td><td>1000.0</td>\n",
       "            </tr>\n",
       "        </table>\n",
       "        "
      ],
      "text/plain": [
       "<Reaction BOUNDARY_OXALe at 0x7f4763171220>"
      ]
     },
     "execution_count": 2,
     "metadata": {},
     "output_type": "execute_result"
    }
   ],
   "source": [
    "model.reactions.BOUNDARY_OXALe"
   ]
  },
  {
   "cell_type": "markdown",
   "metadata": {},
   "source": [
    "We also check our medium composition:"
   ]
  },
  {
   "cell_type": "code",
   "execution_count": 3,
   "metadata": {},
   "outputs": [
    {
     "data": {
      "text/plain": [
       "{'BOUNDARY_GLCe': 10.0,\n",
       " 'BOUNDARY_H2Oe': 1000.0,\n",
       " 'BOUNDARY_HNO3e': 1000.0,\n",
       " 'BOUNDARY_O2e': 1000.0,\n",
       " 'BOUNDARY_PIe': 1000.0,\n",
       " 'BOUNDARY_SLFe': 1000.0,\n",
       " 'BOUNDARY_Ke': 1000.0,\n",
       " 'BOUNDARY_CAe': 1000.0}"
      ]
     },
     "execution_count": 3,
     "metadata": {},
     "output_type": "execute_result"
    }
   ],
   "source": [
    "model.medium"
   ]
  },
  {
   "cell_type": "markdown",
   "metadata": {},
   "source": [
    "Once the exchange reaction is found and the medium composition known we can calculate the model organism growth rate(muMAX), Production and Yield. \n"
   ]
  },
  {
   "cell_type": "markdown",
   "metadata": {},
   "source": [
    "## For GLUCOSE as carbon source under AEROBIC conditions"
   ]
  },
  {
   "cell_type": "markdown",
   "metadata": {},
   "source": [
    "Firstly, we calculate the model organism growth rate(muMAX) with glucose as a carbon source:"
   ]
  },
  {
   "cell_type": "code",
   "execution_count": 4,
   "metadata": {},
   "outputs": [
    {
     "name": "stderr",
     "output_type": "stream",
     "text": [
      "'' is not a valid SBML 'SId'.\n"
     ]
    },
    {
     "name": "stdout",
     "output_type": "stream",
     "text": [
      "uMax GLCe [ h^-1]: 0.9398547241492455\n",
      "Max. Oxalate production [mmol gDW^-1 h^-1]: 30.0\n",
      "Theoretical max. yield [mmol-Oxal / mmol-gluc]: 3.0\n"
     ]
    }
   ],
   "source": [
    "model = read_sbml_model(\"Model_iJB1325_ATCC1015.xml\")\n",
    "model0 =model\n",
    "medium_SUCe = model0.medium\n",
    "medium_SUCe['BOUNDARY_GLCe']=10\n",
    "medium_SUCe['BOUNDARY_SUCe']=0\n",
    "#medium_SUCe['BOUNDARY_O2e']=0\n",
    "#medium_SUCe['BOUNDARY_SLFe']=0\n",
    "#medium_SUCe['BOUNDARY_H2Oe']=0\n",
    "#medium_SUCe['BOUNDARY_HNO3e']=0\n",
    "#medium_SUCe['BOUNDARY_PIe']=0\n",
    "#medium_SUCe['BOUNDARY_Ke']=0\n",
    "#medium_SUCe['BOUNDARY_CAe']=0\n",
    "\n",
    "model0.medium=medium_SUCe\n",
    "\n",
    "\n",
    "muMAX_GLCe = model0.optimize().objective_value\n",
    "print(\"uMax GLCe [ h^-1]:\", muMAX_GLCe)\n",
    "with model0:\n",
    "    model0.medium = medium_SUCe\n",
    "    model0.objective = model0.reactions.get_by_id(\"BOUNDARY_OXALe\")\n",
    "    Oxal_production = model0.optimize().objective_value\n",
    "    print(\"Max. Oxalate production [mmol gDW^-1 h^-1]:\", Oxal_production)\n",
    "    print(\"Theoretical max. yield [mmol-Oxal / mmol-gluc]:\", Oxal_production / (-1* model0.reactions.get_by_id('BOUNDARY_GLCe').flux))"
   ]
  },
  {
   "cell_type": "markdown",
   "metadata": {},
   "source": [
    "As seen in the code, for glucose as a carbon source:\n",
    "\n",
    "- Growth rate (uMax): 0.93 [ h^-1]\n",
    "\n",
    "- Oxalate Production: 30.0 [mmol gDW^-1 h^-1]\n",
    "\n",
    "- Maximum theoretical yield: 3.0 [mmol-Oxal / mmol-gluc]"
   ]
  },
  {
   "cell_type": "markdown",
   "metadata": {},
   "source": [
    "## For SUCROSE as carbon source under AEROBIC conditions"
   ]
  },
  {
   "cell_type": "markdown",
   "metadata": {},
   "source": [
    "Comparatively, we now want to calculate the above parameters but changing glucose to sucrose in the medium to properly calculate the maximum theoretical yield from sucrose to oxalic acid like in the reference papers.\n",
    "\n",
    "To do this we modify the medium composition, bringing glucose valuesto 0 and adding the corresponding values to sucrose."
   ]
  },
  {
   "cell_type": "code",
   "execution_count": 5,
   "metadata": {},
   "outputs": [
    {
     "name": "stderr",
     "output_type": "stream",
     "text": [
      "'' is not a valid SBML 'SId'.\n"
     ]
    },
    {
     "name": "stdout",
     "output_type": "stream",
     "text": [
      "uMax SUCe [ h^-1]: 1.8797094482985977\n",
      "Max. Oxalate production [mmol gDW^-1 h^-1]: 59.99999999999976\n",
      "Theoretical max. yield [mmol-Oxal / mmol-suc]: 5.999999999999976\n"
     ]
    }
   ],
   "source": [
    "model = read_sbml_model(\"Model_iJB1325_ATCC1015.xml\")\n",
    "model0 =model\n",
    "medium_SUCe = model0.medium\n",
    "medium_SUCe['BOUNDARY_GLCe']=0\n",
    "medium_SUCe['BOUNDARY_SUCe']=10\n",
    "medium_SUCe['BOUNDARY_LACTe']=0\n",
    "#medium_SUCe['BOUNDARY_O2e']=0\n",
    "#medium_SUCe['BOUNDARY_SLFe']=0\n",
    "#medium_SUCe['BOUNDARY_H2Oe']=0\n",
    "#medium_SUCe['BOUNDARY_HNO3e']=0\n",
    "#medium_SUCe['BOUNDARY_PIe']=0\n",
    "#medium_SUCe['BOUNDARY_Ke']=0\n",
    "#medium_SUCe['BOUNDARY_CAe']=0\n",
    "\n",
    "model0.medium=medium_SUCe\n",
    "\n",
    "\n",
    "muMAX_GLCe = model0.optimize().objective_value\n",
    "print(\"uMax SUCe [ h^-1]:\", muMAX_GLCe)\n",
    "with model0:\n",
    "    model0.medium = medium_SUCe\n",
    "    model0.objective = model0.reactions.get_by_id(\"BOUNDARY_OXALe\")\n",
    "    Oxal_production = model0.optimize().objective_value\n",
    "    print(\"Max. Oxalate production [mmol gDW^-1 h^-1]:\", Oxal_production)\n",
    "    print(\"Theoretical max. yield [mmol-Oxal / mmol-suc]:\", Oxal_production / (-1* model0.reactions.get_by_id('BOUNDARY_SUCe').flux))"
   ]
  },
  {
   "cell_type": "markdown",
   "metadata": {},
   "source": [
    "As seen in the code, for sucrose as a carbon source:\n",
    "\n",
    "- Growth rate (uMax): 1.87[ h^-1]\n",
    "\n",
    "- Oxalate Production: 59.99 [mmol gDW^-1 h^-1]\n",
    "\n",
    "- Maximum theoretical yield: 5.99[mmol-Oxal / mmol-suc]"
   ]
  },
  {
   "cell_type": "markdown",
   "metadata": {},
   "source": [
    "## For LACTOSE as carbon source under AEROBIC conditions"
   ]
  },
  {
   "cell_type": "markdown",
   "metadata": {},
   "source": [
    "We repeat the proces but in this case using Lactose"
   ]
  },
  {
   "cell_type": "code",
   "execution_count": 6,
   "metadata": {},
   "outputs": [
    {
     "name": "stderr",
     "output_type": "stream",
     "text": [
      "'' is not a valid SBML 'SId'.\n"
     ]
    },
    {
     "name": "stdout",
     "output_type": "stream",
     "text": [
      "uMax LACTe [ h^-1]: 1.879709448298499\n",
      "Max. Oxalate production [mmol gDW^-1 h^-1]: 60.000000000000064\n",
      "Theoretical max. yield [mmol-Oxal / mmol-lact]: 6.000000000000006\n"
     ]
    }
   ],
   "source": [
    "model = read_sbml_model(\"Model_iJB1325_ATCC1015.xml\")\n",
    "model0 =model\n",
    "medium_SUCe = model0.medium\n",
    "medium_SUCe['BOUNDARY_GLCe']=0\n",
    "medium_SUCe['BOUNDARY_SUCe']=0\n",
    "medium_SUCe['BOUNDARY_LACTe']=10\n",
    "#medium_SUCe['BOUNDARY_O2e']=0\n",
    "#medium_SUCe['BOUNDARY_SLFe']=0\n",
    "#medium_SUCe['BOUNDARY_H2Oe']=0\n",
    "#medium_SUCe['BOUNDARY_HNO3e']=0\n",
    "#medium_SUCe['BOUNDARY_PIe']=0\n",
    "#medium_SUCe['BOUNDARY_Ke']=0\n",
    "#medium_SUCe['BOUNDARY_CAe']=0\n",
    "\n",
    "model0.medium=medium_SUCe\n",
    "\n",
    "\n",
    "muMAX_GLCe = model0.optimize().objective_value\n",
    "print(\"uMax LACTe [ h^-1]:\", muMAX_GLCe)\n",
    "with model0:\n",
    "    model0.medium = medium_SUCe\n",
    "    model0.objective = model0.reactions.get_by_id(\"BOUNDARY_OXALe\")\n",
    "    Oxal_production = model0.optimize().objective_value\n",
    "    print(\"Max. Oxalate production [mmol gDW^-1 h^-1]:\", Oxal_production)\n",
    "    print(\"Theoretical max. yield [mmol-Oxal / mmol-lact]:\", Oxal_production / (-1* model0.reactions.get_by_id('BOUNDARY_LACTe').flux))"
   ]
  },
  {
   "cell_type": "markdown",
   "metadata": {},
   "source": [
    "As seen in the code, for lactose as a carbon source:\n",
    "\n",
    "- Growth rate (uMax): 1.87[ h^-1]\n",
    "\n",
    "- Oxalate Production: 60 [mmol gDW^-1 h^-1]\n",
    "\n",
    "- Maximum theoretical yield: 6[mmol-Oxal / mmol-lact]"
   ]
  },
  {
   "cell_type": "markdown",
   "metadata": {},
   "source": [
    "From the above results we can conclude that changing the medium carbon source can lead to a significant change in growth rate, production and theoretical yield of A.niger.\n",
    "Analyzing the differences between glucose, sucrose and lactose, we can clearly observe a significant increase. The growth rate, production and yields double when using sucrose/lactose.\n",
    "This significant increase is in direct agreement with the analysed reference papers (Cameselle et al.) that state that A.Niger growth is optimized when using sucrose/lactose as carbon sources."
   ]
  },
  {
   "cell_type": "markdown",
   "metadata": {},
   "source": [
    "## For SUCROSE as carbon source under ANAEROBIC conditions"
   ]
  },
  {
   "cell_type": "markdown",
   "metadata": {},
   "source": [
    "To get a better understanding of our model we decided to test the capacity of A.Niger under anaerobic conditions."
   ]
  },
  {
   "cell_type": "code",
   "execution_count": 7,
   "metadata": {},
   "outputs": [
    {
     "name": "stderr",
     "output_type": "stream",
     "text": [
      "'' is not a valid SBML 'SId'.\n"
     ]
    },
    {
     "name": "stdout",
     "output_type": "stream",
     "text": [
      "uMax SUCe [ h^-1]: 0.0\n",
      "Max. Oxalate production [mmol gDW^-1 h^-1]: 60.00000000000001\n",
      "Theoretical max. yield [mmol-Oxal / mmol-suc]: 6.000000000000001\n"
     ]
    }
   ],
   "source": [
    "model = read_sbml_model(\"Model_iJB1325_ATCC1015.xml\")\n",
    "model0 =model\n",
    "medium_SUCe = model0.medium\n",
    "medium_SUCe['BOUNDARY_GLCe']=0\n",
    "medium_SUCe['BOUNDARY_SUCe']=10\n",
    "medium_SUCe['BOUNDARY_O2e']=0\n",
    "#medium_SUCe['BOUNDARY_SLFe']=0\n",
    "#medium_SUCe['BOUNDARY_H2Oe']=0\n",
    "#medium_SUCe['BOUNDARY_HNO3e']=0\n",
    "#medium_SUCe['BOUNDARY_PIe']=0\n",
    "#medium_SUCe['BOUNDARY_Ke']=0\n",
    "#medium_SUCe['BOUNDARY_CAe']=0\n",
    "\n",
    "model0.medium=medium_SUCe\n",
    "\n",
    "\n",
    "muMAX_GLCe = model0.optimize().objective_value\n",
    "print(\"uMax SUCe [ h^-1]:\", muMAX_GLCe)\n",
    "with model0:\n",
    "    model0.medium = medium_SUCe\n",
    "    model0.objective = model0.reactions.get_by_id(\"BOUNDARY_OXALe\")\n",
    "    Oxal_production = model0.optimize().objective_value\n",
    "    print(\"Max. Oxalate production [mmol gDW^-1 h^-1]:\", Oxal_production)\n",
    "    print(\"Theoretical max. yield [mmol-Oxal / mmol-suc]:\", Oxal_production / (-1* model0.reactions.get_by_id('BOUNDARY_SUCe').flux))"
   ]
  },
  {
   "cell_type": "markdown",
   "metadata": {},
   "source": [
    "As seen in the code, for sucrose as a carbon source under anaerobic conditions:\n",
    "\n",
    "- Growth rate (uMax): 0[ h^-1]\n",
    "\n",
    "- Oxalate Production: 60 [mmol gDW^-1 h^-1]\n",
    "\n",
    "- Maximum theoretical yield: 6[mmol-Oxal / mmol-suc]"
   ]
  },
  {
   "cell_type": "markdown",
   "metadata": {},
   "source": [
    "We can clearly see that when we take out oxygen from the system, A.niger growth is disrupted. This was expected as A.niger is an aerobic microorganism that requires oxygen for growth."
   ]
  },
  {
   "cell_type": "markdown",
   "metadata": {},
   "source": [
    "## For SUCROSE as carbon source without N under AEROBIC conditions"
   ]
  },
  {
   "cell_type": "code",
   "execution_count": 8,
   "metadata": {},
   "outputs": [
    {
     "name": "stderr",
     "output_type": "stream",
     "text": [
      "'' is not a valid SBML 'SId'.\n"
     ]
    },
    {
     "name": "stdout",
     "output_type": "stream",
     "text": [
      "uMax SUCe [ h^-1]: 0.0\n",
      "Max. Oxalate production [mmol gDW^-1 h^-1]: 59.99999999999995\n",
      "Theoretical max. yield [mmol-Oxal / mmol-suc]: 5.999999999999995\n"
     ]
    }
   ],
   "source": [
    "model = read_sbml_model(\"Model_iJB1325_ATCC1015.xml\")\n",
    "model0 =model\n",
    "medium_SUCe = model0.medium\n",
    "medium_SUCe['BOUNDARY_GLCe']=0\n",
    "medium_SUCe['BOUNDARY_SUCe']=10\n",
    "#medium_SUCe['BOUNDARY_O2e']=0\n",
    "#medium_SUCe['BOUNDARY_SLFe']=0\n",
    "#medium_SUCe['BOUNDARY_H2Oe']=0\n",
    "medium_SUCe['BOUNDARY_HNO3e']=0\n",
    "#medium_SUCe['BOUNDARY_PIe']=0\n",
    "#medium_SUCe['BOUNDARY_Ke']=0\n",
    "#medium_SUCe['BOUNDARY_CAe']=0\n",
    "\n",
    "model0.medium=medium_SUCe\n",
    "\n",
    "\n",
    "muMAX_GLCe = model0.optimize().objective_value\n",
    "print(\"uMax SUCe [ h^-1]:\", muMAX_GLCe)\n",
    "with model0:\n",
    "    model0.medium = medium_SUCe\n",
    "    model0.objective = model0.reactions.get_by_id(\"BOUNDARY_OXALe\")\n",
    "    Oxal_production = model0.optimize().objective_value\n",
    "    print(\"Max. Oxalate production [mmol gDW^-1 h^-1]:\", Oxal_production)\n",
    "    print(\"Theoretical max. yield [mmol-Oxal / mmol-suc]:\", Oxal_production / (-1* model0.reactions.get_by_id('BOUNDARY_SUCe').flux))"
   ]
  },
  {
   "cell_type": "markdown",
   "metadata": {},
   "source": [
    "## For SUCROSE as carbon source without P under AEROBIC conditions"
   ]
  },
  {
   "cell_type": "code",
   "execution_count": 9,
   "metadata": {},
   "outputs": [
    {
     "name": "stderr",
     "output_type": "stream",
     "text": [
      "'' is not a valid SBML 'SId'.\n"
     ]
    },
    {
     "name": "stdout",
     "output_type": "stream",
     "text": [
      "uMax SUCe [ h^-1]: 0.817635167298333\n",
      "Max. Oxalate production [mmol gDW^-1 h^-1]: 59.99999999999994\n",
      "Theoretical max. yield [mmol-Oxal / mmol-suc]: 5.999999999999995\n"
     ]
    }
   ],
   "source": [
    "model = read_sbml_model(\"Model_iJB1325_ATCC1015.xml\")\n",
    "model0 =model\n",
    "medium_SUCe = model0.medium\n",
    "medium_SUCe['BOUNDARY_GLCe']=0\n",
    "medium_SUCe['BOUNDARY_SUCe']=10\n",
    "#medium_SUCe['BOUNDARY_O2e']=0\n",
    "#medium_SUCe['BOUNDARY_SLFe']=0\n",
    "#medium_SUCe['BOUNDARY_H2Oe']=0\n",
    "#medium_SUCe['BOUNDARY_HNO3e']=0\n",
    "medium_SUCe['BOUNDARY_PIe']=0\n",
    "#medium_SUCe['BOUNDARY_Ke']=0\n",
    "#medium_SUCe['BOUNDARY_CAe']=0\n",
    "\n",
    "model0.medium=medium_SUCe\n",
    "\n",
    "\n",
    "muMAX_GLCe = model0.optimize().objective_value\n",
    "print(\"uMax SUCe [ h^-1]:\", muMAX_GLCe)\n",
    "with model0:\n",
    "    model0.medium = medium_SUCe\n",
    "    model0.objective = model0.reactions.get_by_id(\"BOUNDARY_OXALe\")\n",
    "    Oxal_production = model0.optimize().objective_value\n",
    "    print(\"Max. Oxalate production [mmol gDW^-1 h^-1]:\", Oxal_production)\n",
    "    print(\"Theoretical max. yield [mmol-Oxal / mmol-suc]:\", Oxal_production / (-1* model0.reactions.get_by_id('BOUNDARY_SUCe').flux))"
   ]
  },
  {
   "cell_type": "markdown",
   "metadata": {},
   "source": [
    "## For SUCROSE as carbon source without S under AEROBIC conditions"
   ]
  },
  {
   "cell_type": "code",
   "execution_count": 10,
   "metadata": {},
   "outputs": [
    {
     "name": "stderr",
     "output_type": "stream",
     "text": [
      "'' is not a valid SBML 'SId'.\n"
     ]
    },
    {
     "name": "stdout",
     "output_type": "stream",
     "text": [
      "uMax SUCe [ h^-1]: 0.0\n",
      "Max. Oxalate production [mmol gDW^-1 h^-1]: 60.0\n",
      "Theoretical max. yield [mmol-Oxal / mmol-suc]: 6.0\n"
     ]
    }
   ],
   "source": [
    "model = read_sbml_model(\"Model_iJB1325_ATCC1015.xml\")\n",
    "model0 =model\n",
    "medium_SUCe = model0.medium\n",
    "medium_SUCe['BOUNDARY_GLCe']=0\n",
    "medium_SUCe['BOUNDARY_SUCe']=10\n",
    "#medium_SUCe['BOUNDARY_O2e']=0\n",
    "medium_SUCe['BOUNDARY_SLFe']=0\n",
    "#medium_SUCe['BOUNDARY_H2Oe']=0\n",
    "#medium_SUCe['BOUNDARY_HNO3e']=0\n",
    "#medium_SUCe['BOUNDARY_PIe']=0\n",
    "#medium_SUCe['BOUNDARY_Ke']=0\n",
    "#medium_SUCe['BOUNDARY_CAe']=0\n",
    "\n",
    "model0.medium=medium_SUCe\n",
    "\n",
    "\n",
    "muMAX_GLCe = model0.optimize().objective_value\n",
    "print(\"uMax SUCe [ h^-1]:\", muMAX_GLCe)\n",
    "with model0:\n",
    "    model0.medium = medium_SUCe\n",
    "    model0.objective = model0.reactions.get_by_id(\"BOUNDARY_OXALe\")\n",
    "    Oxal_production = model0.optimize().objective_value\n",
    "    print(\"Max. Oxalate production [mmol gDW^-1 h^-1]:\", Oxal_production)\n",
    "    print(\"Theoretical max. yield [mmol-Oxal / mmol-suc]:\", Oxal_production / (-1* model0.reactions.get_by_id('BOUNDARY_SUCe').flux))"
   ]
  },
  {
   "cell_type": "markdown",
   "metadata": {},
   "source": [
    "As observed, when deleting N, S from the medium A.niger growth is totally disrupted, values turn to 0. Comparatively, when deleting P from the medium the growth is slighlty disrupted but not completely. Therefore, we can conclude that N, S ara essential metabolites for A.niger growth while P is also important for its optimal growth."
   ]
  },
  {
   "cell_type": "markdown",
   "metadata": {},
   "source": [
    "## For SUCROSE as carbon source without H2O, K, Ca under AEROBIC conditions"
   ]
  },
  {
   "cell_type": "code",
   "execution_count": 11,
   "metadata": {},
   "outputs": [
    {
     "name": "stderr",
     "output_type": "stream",
     "text": [
      "'' is not a valid SBML 'SId'.\n"
     ]
    },
    {
     "name": "stdout",
     "output_type": "stream",
     "text": [
      "uMax SUCe [ h^-1]: 1.8797094482984995\n",
      "Max. Oxalate production [mmol gDW^-1 h^-1]: 59.99999999999957\n",
      "Theoretical max. yield [mmol-Oxal / mmol-suc]: 5.9999999999999565\n"
     ]
    }
   ],
   "source": [
    "model = read_sbml_model(\"Model_iJB1325_ATCC1015.xml\")\n",
    "model0 =model\n",
    "medium_SUCe = model0.medium\n",
    "medium_SUCe['BOUNDARY_GLCe']=0\n",
    "medium_SUCe['BOUNDARY_SUCe']=10\n",
    "#medium_SUCe['BOUNDARY_O2e']=0\n",
    "#medium_SUCe['BOUNDARY_SLFe']=0\n",
    "medium_SUCe['BOUNDARY_H2Oe']=0\n",
    "#medium_SUCe['BOUNDARY_HNO3e']=0\n",
    "#medium_SUCe['BOUNDARY_PIe']=0\n",
    "medium_SUCe['BOUNDARY_Ke']=0\n",
    "medium_SUCe['BOUNDARY_CAe']=0\n",
    "\n",
    "model0.medium=medium_SUCe\n",
    "\n",
    "\n",
    "muMAX_GLCe = model0.optimize().objective_value\n",
    "print(\"uMax SUCe [ h^-1]:\", muMAX_GLCe)\n",
    "with model0:\n",
    "    model0.medium = medium_SUCe\n",
    "    model0.objective = model0.reactions.get_by_id(\"BOUNDARY_OXALe\")\n",
    "    Oxal_production = model0.optimize().objective_value\n",
    "    print(\"Max. Oxalate production [mmol gDW^-1 h^-1]:\", Oxal_production)\n",
    "    print(\"Theoretical max. yield [mmol-Oxal / mmol-suc]:\", Oxal_production / (-1* model0.reactions.get_by_id('BOUNDARY_SUCe').flux))"
   ]
  },
  {
   "cell_type": "markdown",
   "metadata": {},
   "source": [
    "When removing Water, K and Ca from the system nothing occurs to to A. niger growth. We can conlcude that this metabolites are not essential for its growth."
   ]
  }
 ],
 "metadata": {
  "kernelspec": {
   "display_name": "Python 3",
   "language": "python",
   "name": "python3"
  },
  "language_info": {
   "codemirror_mode": {
    "name": "ipython",
    "version": 3
   },
   "file_extension": ".py",
   "mimetype": "text/x-python",
   "name": "python",
   "nbconvert_exporter": "python",
   "pygments_lexer": "ipython3",
   "version": "3.8.5"
  }
 },
 "nbformat": 4,
 "nbformat_minor": 4
}
