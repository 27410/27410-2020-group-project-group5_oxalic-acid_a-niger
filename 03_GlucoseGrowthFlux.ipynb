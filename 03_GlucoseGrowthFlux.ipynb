{
 "cells": [
  {
   "cell_type": "code",
   "execution_count": 1,
   "metadata": {},
   "outputs": [],
   "source": [
    "from cobra.io import read_sbml_model\n"
   ]
  },
  {
   "cell_type": "code",
   "execution_count": 2,
   "metadata": {},
   "outputs": [
    {
     "name": "stderr",
     "output_type": "stream",
     "text": [
      "'' is not a valid SBML 'SId'.\n"
     ]
    }
   ],
   "source": [
    "model = read_sbml_model('Model_iJB1325_ATCC1015.xml')"
   ]
  },
  {
   "cell_type": "code",
   "execution_count": 3,
   "metadata": {},
   "outputs": [],
   "source": [
    "from cobra import Reaction, Metabolite"
   ]
  },
  {
   "cell_type": "markdown",
   "metadata": {},
   "source": [
    "Here, glucose is taken as the only carbon source to compare the fluxes of the target reaction r51 and GOOR with the fluxes obtained with sucrose and lactose. The medium is not changed as glucose is originally selected as the only carbon source in the given model"
   ]
  },
  {
   "cell_type": "code",
   "execution_count": 4,
   "metadata": {},
   "outputs": [],
   "source": [
    "new_reaction = Reaction('GOOR') #for glyoxylate oxidoreductase reaction"
   ]
  },
  {
   "cell_type": "code",
   "execution_count": 5,
   "metadata": {},
   "outputs": [],
   "source": [
    "new_reaction.add_metabolites({model.metabolites.GLX: -1,\n",
    "                              model.metabolites.H2O: -1,\n",
    "                              model.metabolites.O2: -1,\n",
    "                              model.metabolites.OXAL: 1,\n",
    "                              model.metabolites.H2O2: 1\n",
    "                             })"
   ]
  },
  {
   "cell_type": "code",
   "execution_count": 6,
   "metadata": {},
   "outputs": [
    {
     "name": "stdout",
     "output_type": "stream",
     "text": [
      "GLX + H2O + O2 --> H2O2 + OXAL\n"
     ]
    }
   ],
   "source": [
    "print(new_reaction.build_reaction_string())"
   ]
  },
  {
   "cell_type": "code",
   "execution_count": 7,
   "metadata": {},
   "outputs": [],
   "source": [
    "model.add_reactions([new_reaction])"
   ]
  },
  {
   "cell_type": "code",
   "execution_count": 8,
   "metadata": {},
   "outputs": [
    {
     "name": "stdout",
     "output_type": "stream",
     "text": [
      "0.9398547241492551\n",
      "685.5670103092759\n",
      "120.00000000000222\n"
     ]
    }
   ],
   "source": [
    "with model:\n",
    "    print(model.slim_optimize())\n",
    "    model.objective = model.reactions.r51\n",
    "    print(model.optimize().objective_value)\n",
    "    model.genes.get_by_id('1143651').knock_out() \n",
    "    model.genes.get_by_id('1172632').knock_out()\n",
    "    model.genes.get_by_id('48047').knock_out()\n",
    "    model.objective = model.reactions.GOOR\n",
    "    print(model.optimize().objective_value)\n",
    "   "
   ]
  },
  {
   "cell_type": "markdown",
   "metadata": {},
   "source": [
    "The results show that the fluxes of r51 and GOOR are weaker in comparison to using the carbon source sucrose or lactose, which confirm the findings of the reference paper. "
   ]
  },
  {
   "cell_type": "code",
   "execution_count": null,
   "metadata": {},
   "outputs": [],
   "source": []
  },
  {
   "cell_type": "code",
   "execution_count": null,
   "metadata": {},
   "outputs": [],
   "source": []
  }
 ],
 "metadata": {
  "kernelspec": {
   "display_name": "Python 3",
   "language": "python",
   "name": "python3"
  },
  "language_info": {
   "codemirror_mode": {
    "name": "ipython",
    "version": 3
   },
   "file_extension": ".py",
   "mimetype": "text/x-python",
   "name": "python",
   "nbconvert_exporter": "python",
   "pygments_lexer": "ipython3",
   "version": "3.8.5"
  }
 },
 "nbformat": 4,
 "nbformat_minor": 4
}
