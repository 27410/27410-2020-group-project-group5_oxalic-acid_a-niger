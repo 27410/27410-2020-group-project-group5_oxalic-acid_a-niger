{
 "cells": [
  {
   "cell_type": "markdown",
   "metadata": {},
   "source": [
    "## Calculating growth, Oxalate production and Maximum theoretical yields for different conditions\n"
   ]
  },
  {
   "cell_type": "code",
   "execution_count": null,
   "metadata": {},
   "outputs": [],
   "source": [
    "from cobra.io import read_sbml_model"
   ]
  },
  {
   "cell_type": "markdown",
   "metadata": {},
   "source": [
    "Oxalic with glucose"
   ]
  },
  {
   "cell_type": "code",
   "execution_count": 2,
   "metadata": {},
   "outputs": [
    {
     "name": "stderr",
     "output_type": "stream",
     "text": [
      "'' is not a valid SBML 'SId'.\n"
     ]
    },
    {
     "name": "stdout",
     "output_type": "stream",
     "text": [
      "uMax GLCe [ h^-1]: 0.9398547241492455\n",
      "Max. Oxalate production [mmol gDW^-1 h^-1]: 30.0\n",
      "Theoretical max. yield [mmol-Oxal / mmol-gluc]: 3.0\n"
     ]
    }
   ],
   "source": [
    "model = read_sbml_model(\"Model_iJB1325_ATCC1015.xml\")\n",
    "model0 =model\n",
    "medium_SUCe = model0.medium\n",
    "medium_SUCe['BOUNDARY_GLCe']=10\n",
    "medium_SUCe['BOUNDARY_SUCe']=0\n",
    "#medium_SUCe['BOUNDARY_O2e']=0\n",
    "#medium_SUCe['BOUNDARY_SLFe']=0\n",
    "#medium_SUCe['BOUNDARY_H2Oe']=0\n",
    "#medium_SUCe['BOUNDARY_HNO3e']=0\n",
    "#medium_SUCe['BOUNDARY_PIe']=0\n",
    "#medium_SUCe['BOUNDARY_Ke']=0\n",
    "#medium_SUCe['BOUNDARY_CAe']=0\n",
    "\n",
    "model0.medium=medium_SUCe\n",
    "\n",
    "\n",
    "muMAX_GLCe = model0.optimize().objective_value\n",
    "print(\"uMax GLCe [ h^-1]:\", muMAX_GLCe)\n",
    "with model0:\n",
    "    model0.medium = medium_SUCe\n",
    "    model0.objective = model0.reactions.get_by_id(\"BOUNDARY_OXALe\")\n",
    "    Oxal_production = model0.optimize().objective_value\n",
    "    print(\"Max. Oxalate production [mmol gDW^-1 h^-1]:\", Oxal_production)\n",
    "    print(\"Theoretical max. yield [mmol-Oxal / mmol-gluc]:\", Oxal_production / (-1* model0.reactions.get_by_id('BOUNDARY_GLCe').flux))"
   ]
  },
  {
   "cell_type": "markdown",
   "metadata": {},
   "source": [
    "Oxalic with sucrose\n"
   ]
  },
  {
   "cell_type": "code",
   "execution_count": 3,
   "metadata": {},
   "outputs": [
    {
     "name": "stderr",
     "output_type": "stream",
     "text": [
      "'' is not a valid SBML 'SId'.\n"
     ]
    },
    {
     "name": "stdout",
     "output_type": "stream",
     "text": [
      "uMax SUCe [ h^-1]: 1.8797094482985977\n",
      "Max. Oxalate production [mmol gDW^-1 h^-1]: 59.99999999999976\n",
      "Theoretical max. yield [mmol-Oxal / mmol-suc]: 5.999999999999976\n"
     ]
    }
   ],
   "source": [
    "model = read_sbml_model(\"Model_iJB1325_ATCC1015.xml\")\n",
    "model0 =model\n",
    "medium_SUCe = model0.medium\n",
    "medium_SUCe['BOUNDARY_GLCe']=0\n",
    "medium_SUCe['BOUNDARY_SUCe']=10\n",
    "medium_SUCe['BOUNDARY_LACTe']=0\n",
    "#medium_SUCe['BOUNDARY_O2e']=0\n",
    "#medium_SUCe['BOUNDARY_SLFe']=0\n",
    "#medium_SUCe['BOUNDARY_H2Oe']=0\n",
    "#medium_SUCe['BOUNDARY_HNO3e']=0\n",
    "#medium_SUCe['BOUNDARY_PIe']=0\n",
    "#medium_SUCe['BOUNDARY_Ke']=0\n",
    "#medium_SUCe['BOUNDARY_CAe']=0\n",
    "\n",
    "model0.medium=medium_SUCe\n",
    "\n",
    "\n",
    "muMAX_GLCe = model0.optimize().objective_value\n",
    "print(\"uMax SUCe [ h^-1]:\", muMAX_GLCe)\n",
    "with model0:\n",
    "    model0.medium = medium_SUCe\n",
    "    model0.objective = model0.reactions.get_by_id(\"BOUNDARY_OXALe\")\n",
    "    Oxal_production = model0.optimize().objective_value\n",
    "    print(\"Max. Oxalate production [mmol gDW^-1 h^-1]:\", Oxal_production)\n",
    "    print(\"Theoretical max. yield [mmol-Oxal / mmol-suc]:\", Oxal_production / (-1* model0.reactions.get_by_id('BOUNDARY_SUCe').flux))"
   ]
  },
  {
   "cell_type": "markdown",
   "metadata": {},
   "source": [
    "Oxalic with lactose"
   ]
  },
  {
   "cell_type": "code",
   "execution_count": 4,
   "metadata": {},
   "outputs": [
    {
     "name": "stderr",
     "output_type": "stream",
     "text": [
      "'' is not a valid SBML 'SId'.\n"
     ]
    },
    {
     "name": "stdout",
     "output_type": "stream",
     "text": [
      "uMax LACTe [ h^-1]: 1.879709448298499\n",
      "Max. Oxalate production [mmol gDW^-1 h^-1]: 60.000000000000064\n",
      "Theoretical max. yield [mmol-Oxal / mmol-lac]: 6.000000000000006\n"
     ]
    }
   ],
   "source": [
    "model = read_sbml_model(\"Model_iJB1325_ATCC1015.xml\")\n",
    "model0 =model\n",
    "medium_SUCe = model0.medium\n",
    "medium_SUCe['BOUNDARY_GLCe']=0\n",
    "medium_SUCe['BOUNDARY_SUCe']=0\n",
    "medium_SUCe['BOUNDARY_LACTe']=10\n",
    "#medium_SUCe['BOUNDARY_O2e']=0\n",
    "#medium_SUCe['BOUNDARY_SLFe']=0\n",
    "#medium_SUCe['BOUNDARY_H2Oe']=0\n",
    "#medium_SUCe['BOUNDARY_HNO3e']=0\n",
    "#medium_SUCe['BOUNDARY_PIe']=0\n",
    "#medium_SUCe['BOUNDARY_Ke']=0\n",
    "#medium_SUCe['BOUNDARY_CAe']=0\n",
    "\n",
    "model0.medium=medium_SUCe\n",
    "\n",
    "\n",
    "muMAX_GLCe = model0.optimize().objective_value\n",
    "print(\"uMax LACTe [ h^-1]:\", muMAX_GLCe)\n",
    "with model0:\n",
    "    model0.medium = medium_SUCe\n",
    "    model0.objective = model0.reactions.get_by_id(\"BOUNDARY_OXALe\")\n",
    "    Oxal_production = model0.optimize().objective_value\n",
    "    print(\"Max. Oxalate production [mmol gDW^-1 h^-1]:\", Oxal_production)\n",
    "    print(\"Theoretical max. yield [mmol-Oxal / mmol-lac]:\", Oxal_production / (-1* model0.reactions.get_by_id('BOUNDARY_LACTe').flux))"
   ]
  },
  {
   "cell_type": "markdown",
   "metadata": {},
   "source": [
    "Oxalic with sucrose and anaerobic"
   ]
  },
  {
   "cell_type": "code",
   "execution_count": 5,
   "metadata": {},
   "outputs": [
    {
     "name": "stderr",
     "output_type": "stream",
     "text": [
      "'' is not a valid SBML 'SId'.\n"
     ]
    },
    {
     "name": "stdout",
     "output_type": "stream",
     "text": [
      "uMax SUCe [ h^-1]: 0.0\n",
      "Max. Oxalate production [mmol gDW^-1 h^-1]: 60.00000000000001\n",
      "Theoretical max. yield [mmol-Oxal / mmol-suc]: 6.000000000000001\n"
     ]
    }
   ],
   "source": [
    "model = read_sbml_model(\"Model_iJB1325_ATCC1015.xml\")\n",
    "model0 =model\n",
    "medium_SUCe = model0.medium\n",
    "medium_SUCe['BOUNDARY_GLCe']=0\n",
    "medium_SUCe['BOUNDARY_SUCe']=10\n",
    "medium_SUCe['BOUNDARY_O2e']=0\n",
    "#medium_SUCe['BOUNDARY_SLFe']=0\n",
    "#medium_SUCe['BOUNDARY_H2Oe']=0\n",
    "#medium_SUCe['BOUNDARY_HNO3e']=0\n",
    "#medium_SUCe['BOUNDARY_PIe']=0\n",
    "#medium_SUCe['BOUNDARY_Ke']=0\n",
    "#medium_SUCe['BOUNDARY_CAe']=0\n",
    "\n",
    "model0.medium=medium_SUCe\n",
    "\n",
    "\n",
    "muMAX_GLCe = model0.optimize().objective_value\n",
    "print(\"uMax SUCe [ h^-1]:\", muMAX_GLCe)\n",
    "with model0:\n",
    "    model0.medium = medium_SUCe\n",
    "    model0.objective = model0.reactions.get_by_id(\"BOUNDARY_OXALe\")\n",
    "    Oxal_production = model0.optimize().objective_value\n",
    "    print(\"Max. Oxalate production [mmol gDW^-1 h^-1]:\", Oxal_production)\n",
    "    print(\"Theoretical max. yield [mmol-Oxal / mmol-suc]:\", Oxal_production / (-1* model0.reactions.get_by_id('BOUNDARY_SUCe').flux))"
   ]
  },
  {
   "cell_type": "markdown",
   "metadata": {},
   "source": [
    "Oxalic with sucrose and without N"
   ]
  },
  {
   "cell_type": "code",
   "execution_count": 6,
   "metadata": {},
   "outputs": [
    {
     "name": "stderr",
     "output_type": "stream",
     "text": [
      "'' is not a valid SBML 'SId'.\n"
     ]
    },
    {
     "name": "stdout",
     "output_type": "stream",
     "text": [
      "uMax SUCe [ h^-1]: 0.0\n",
      "Max. Oxalate production [mmol gDW^-1 h^-1]: 59.99999999999995\n",
      "Theoretical max. yield [mmol-Oxal / mmol-suc]: 5.999999999999995\n"
     ]
    }
   ],
   "source": [
    "model = read_sbml_model(\"Model_iJB1325_ATCC1015.xml\")\n",
    "model0 =model\n",
    "medium_SUCe = model0.medium\n",
    "medium_SUCe['BOUNDARY_GLCe']=0\n",
    "medium_SUCe['BOUNDARY_SUCe']=10\n",
    "#medium_SUCe['BOUNDARY_O2e']=0\n",
    "#medium_SUCe['BOUNDARY_SLFe']=0\n",
    "#medium_SUCe['BOUNDARY_H2Oe']=0\n",
    "medium_SUCe['BOUNDARY_HNO3e']=0\n",
    "#medium_SUCe['BOUNDARY_PIe']=0\n",
    "#medium_SUCe['BOUNDARY_Ke']=0\n",
    "#medium_SUCe['BOUNDARY_CAe']=0\n",
    "\n",
    "model0.medium=medium_SUCe\n",
    "\n",
    "\n",
    "muMAX_GLCe = model0.optimize().objective_value\n",
    "print(\"uMax SUCe [ h^-1]:\", muMAX_GLCe)\n",
    "with model0:\n",
    "    model0.medium = medium_SUCe\n",
    "    model0.objective = model0.reactions.get_by_id(\"BOUNDARY_OXALe\")\n",
    "    Oxal_production = model0.optimize().objective_value\n",
    "    print(\"Max. Oxalate production [mmol gDW^-1 h^-1]:\", Oxal_production)\n",
    "    print(\"Theoretical max. yield [mmol-Oxal / mmol-suc]:\", Oxal_production / (-1* model0.reactions.get_by_id('BOUNDARY_SUCe').flux))"
   ]
  },
  {
   "cell_type": "markdown",
   "metadata": {},
   "source": [
    "Oxalic with sucrose and without P"
   ]
  },
  {
   "cell_type": "code",
   "execution_count": 7,
   "metadata": {},
   "outputs": [
    {
     "name": "stderr",
     "output_type": "stream",
     "text": [
      "'' is not a valid SBML 'SId'.\n"
     ]
    },
    {
     "name": "stdout",
     "output_type": "stream",
     "text": [
      "uMax SUCe [ h^-1]: 0.817635167298333\n",
      "Max. Oxalate production [mmol gDW^-1 h^-1]: 59.99999999999994\n",
      "Theoretical max. yield [mmol-Oxal / mmol-suc]: 5.999999999999995\n"
     ]
    }
   ],
   "source": [
    "model = read_sbml_model(\"Model_iJB1325_ATCC1015.xml\")\n",
    "model0 =model\n",
    "medium_SUCe = model0.medium\n",
    "medium_SUCe['BOUNDARY_GLCe']=0\n",
    "medium_SUCe['BOUNDARY_SUCe']=10\n",
    "#medium_SUCe['BOUNDARY_O2e']=0\n",
    "#medium_SUCe['BOUNDARY_SLFe']=0\n",
    "#medium_SUCe['BOUNDARY_H2Oe']=0\n",
    "#medium_SUCe['BOUNDARY_HNO3e']=0\n",
    "medium_SUCe['BOUNDARY_PIe']=0\n",
    "#medium_SUCe['BOUNDARY_Ke']=0\n",
    "#medium_SUCe['BOUNDARY_CAe']=0\n",
    "\n",
    "model0.medium=medium_SUCe\n",
    "\n",
    "\n",
    "muMAX_GLCe = model0.optimize().objective_value\n",
    "print(\"uMax SUCe [ h^-1]:\", muMAX_GLCe)\n",
    "with model0:\n",
    "    model0.medium = medium_SUCe\n",
    "    model0.objective = model0.reactions.get_by_id(\"BOUNDARY_OXALe\")\n",
    "    Oxal_production = model0.optimize().objective_value\n",
    "    print(\"Max. Oxalate production [mmol gDW^-1 h^-1]:\", Oxal_production)\n",
    "    print(\"Theoretical max. yield [mmol-Oxal / mmol-suc]:\", Oxal_production / (-1* model0.reactions.get_by_id('BOUNDARY_SUCe').flux))"
   ]
  },
  {
   "cell_type": "markdown",
   "metadata": {},
   "source": [
    "Oxalic with sucrose and without S"
   ]
  },
  {
   "cell_type": "code",
   "execution_count": 8,
   "metadata": {},
   "outputs": [
    {
     "name": "stderr",
     "output_type": "stream",
     "text": [
      "'' is not a valid SBML 'SId'.\n"
     ]
    },
    {
     "name": "stdout",
     "output_type": "stream",
     "text": [
      "uMax SUCe [ h^-1]: 0.0\n",
      "Max. Oxalate production [mmol gDW^-1 h^-1]: 60.0\n",
      "Theoretical max. yield [mmol-Oxal / mmol-suc]: 6.0\n"
     ]
    }
   ],
   "source": [
    "model = read_sbml_model(\"Model_iJB1325_ATCC1015.xml\")\n",
    "model0 =model\n",
    "medium_SUCe = model0.medium\n",
    "medium_SUCe['BOUNDARY_GLCe']=0\n",
    "medium_SUCe['BOUNDARY_SUCe']=10\n",
    "#medium_SUCe['BOUNDARY_O2e']=0\n",
    "medium_SUCe['BOUNDARY_SLFe']=0\n",
    "#medium_SUCe['BOUNDARY_H2Oe']=0\n",
    "#medium_SUCe['BOUNDARY_HNO3e']=0\n",
    "#medium_SUCe['BOUNDARY_PIe']=0\n",
    "#medium_SUCe['BOUNDARY_Ke']=0\n",
    "#medium_SUCe['BOUNDARY_CAe']=0\n",
    "\n",
    "model0.medium=medium_SUCe\n",
    "\n",
    "\n",
    "muMAX_GLCe = model0.optimize().objective_value\n",
    "print(\"uMax SUCe [ h^-1]:\", muMAX_GLCe)\n",
    "with model0:\n",
    "    model0.medium = medium_SUCe\n",
    "    model0.objective = model0.reactions.get_by_id(\"BOUNDARY_OXALe\")\n",
    "    Oxal_production = model0.optimize().objective_value\n",
    "    print(\"Max. Oxalate production [mmol gDW^-1 h^-1]:\", Oxal_production)\n",
    "    print(\"Theoretical max. yield [mmol-Oxal / mmol-suc]:\", Oxal_production / (-1* model0.reactions.get_by_id('BOUNDARY_SUCe').flux))"
   ]
  },
  {
   "cell_type": "markdown",
   "metadata": {},
   "source": [
    "Oxalic with sucrose and without Water,K, Ca"
   ]
  },
  {
   "cell_type": "code",
   "execution_count": 9,
   "metadata": {},
   "outputs": [
    {
     "name": "stderr",
     "output_type": "stream",
     "text": [
      "'' is not a valid SBML 'SId'.\n"
     ]
    },
    {
     "name": "stdout",
     "output_type": "stream",
     "text": [
      "uMax SUCe [ h^-1]: 1.8797094482984995\n",
      "Max. Oxalate production [mmol gDW^-1 h^-1]: 59.99999999999957\n",
      "Theoretical max. yield [mmol-Oxal / mmol-suc]: 5.9999999999999565\n"
     ]
    }
   ],
   "source": [
    "model = read_sbml_model(\"Model_iJB1325_ATCC1015.xml\")\n",
    "model0 =model\n",
    "medium_SUCe = model0.medium\n",
    "medium_SUCe['BOUNDARY_GLCe']=0\n",
    "medium_SUCe['BOUNDARY_SUCe']=10\n",
    "#medium_SUCe['BOUNDARY_O2e']=0\n",
    "#medium_SUCe['BOUNDARY_SLFe']=0\n",
    "medium_SUCe['BOUNDARY_H2Oe']=0\n",
    "#medium_SUCe['BOUNDARY_HNO3e']=0\n",
    "#medium_SUCe['BOUNDARY_PIe']=0\n",
    "medium_SUCe['BOUNDARY_Ke']=0\n",
    "medium_SUCe['BOUNDARY_CAe']=0\n",
    "\n",
    "model0.medium=medium_SUCe\n",
    "\n",
    "\n",
    "muMAX_GLCe = model0.optimize().objective_value\n",
    "print(\"uMax SUCe [ h^-1]:\", muMAX_GLCe)\n",
    "with model0:\n",
    "    model0.medium = medium_SUCe\n",
    "    model0.objective = model0.reactions.get_by_id(\"BOUNDARY_OXALe\")\n",
    "    Oxal_production = model0.optimize().objective_value\n",
    "    print(\"Max. Oxalate production [mmol gDW^-1 h^-1]:\", Oxal_production)\n",
    "    print(\"Theoretical max. yield [mmol-Oxal / mmol-suc]:\", Oxal_production / (-1* model0.reactions.get_by_id('BOUNDARY_SUCe').flux))"
   ]
  },
  {
   "cell_type": "markdown",
   "metadata": {},
   "source": [
    "\n",
    "Testing other code and getting same results"
   ]
  },
  {
   "cell_type": "code",
   "execution_count": 10,
   "metadata": {},
   "outputs": [
    {
     "name": "stderr",
     "output_type": "stream",
     "text": [
      "'' is not a valid SBML 'SId'.\n"
     ]
    },
    {
     "name": "stdout",
     "output_type": "stream",
     "text": [
      "Max. oxalate production GLCe [mmol gDW^-1 h^-1]: 30.00000000000002\n",
      "Theoretical max. yield [mmol-oxalic / mmol-GLCe]: 3.000000000000002\n"
     ]
    }
   ],
   "source": [
    "from cobra.io import read_sbml_model\n",
    "model = read_sbml_model('Model_iJB1325_ATCC1015.xml')\n",
    "model1 = model\n",
    "model1.objective = model1.reactions.get_by_id('BOUNDARY_OXALe')\n",
    "solution = model1.optimize()\n",
    "Oxalate_production_GLCe = solution.fluxes['BOUNDARY_OXALe']\n",
    "model1.reactions.get_by_id('BOUNDARY_GLCe')\n",
    "Oxalate_yield_GLCe = Oxalate_production_GLCe / (-1. * solution.fluxes['BOUNDARY_GLCe'])\n",
    "\n",
    "print(\"Max. oxalate production GLCe [mmol gDW^-1 h^-1]:\", Oxalate_production_GLCe)\n",
    "print(\"Theoretical max. yield [mmol-oxalic / mmol-GLCe]:\", Oxalate_yield_GLCe)\n"
   ]
  },
  {
   "cell_type": "code",
   "execution_count": null,
   "metadata": {},
   "outputs": [],
   "source": []
  },
  {
   "cell_type": "code",
   "execution_count": null,
   "metadata": {},
   "outputs": [],
   "source": []
  }
 ],
 "metadata": {
  "kernelspec": {
   "display_name": "Python 3",
   "language": "python",
   "name": "python3"
  },
  "language_info": {
   "codemirror_mode": {
    "name": "ipython",
    "version": 3
   },
   "file_extension": ".py",
   "mimetype": "text/x-python",
   "name": "python",
   "nbconvert_exporter": "python",
   "pygments_lexer": "ipython3",
   "version": "3.8.5"
  }
 },
 "nbformat": 4,
 "nbformat_minor": 4
}
