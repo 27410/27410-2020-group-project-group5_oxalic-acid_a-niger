{
 "cells": [
  {
   "cell_type": "markdown",
   "metadata": {},
   "source": [
    "FLUX r51 --> Oxoloacetate to Oxalate flux\n"
   ]
  },
  {
   "cell_type": "code",
   "execution_count": 11,
   "metadata": {},
   "outputs": [],
   "source": [
    "from cobra.io import read_sbml_model"
   ]
  },
  {
   "cell_type": "code",
   "execution_count": 3,
   "metadata": {},
   "outputs": [
    {
     "name": "stderr",
     "output_type": "stream",
     "text": [
      "'' is not a valid SBML 'SId'.\n"
     ]
    },
    {
     "data": {
      "text/plain": [
       "685.5670103092784"
      ]
     },
     "execution_count": 3,
     "metadata": {},
     "output_type": "execute_result"
    }
   ],
   "source": [
    "model_original = read_sbml_model('Model_iJB1325_ATCC1015.xml')\n",
    "model = model_original.copy()\n",
    "model.objective = model.reactions.get_by_id(\"r51\")\n",
    "solution = model.optimize()\n",
    "solution.fluxes['r51']"
   ]
  },
  {
   "cell_type": "markdown",
   "metadata": {},
   "source": [
    "FLUX OXALATE"
   ]
  },
  {
   "cell_type": "code",
   "execution_count": 3,
   "metadata": {},
   "outputs": [
    {
     "name": "stderr",
     "output_type": "stream",
     "text": [
      "'' is not a valid SBML 'SId'.\n"
     ]
    },
    {
     "data": {
      "text/plain": [
       "29.999999999999982"
      ]
     },
     "execution_count": 3,
     "metadata": {},
     "output_type": "execute_result"
    }
   ],
   "source": [
    "model_original = read_sbml_model('Model_iJB1325_ATCC1015.xml')\n",
    "model = model_original.copy()\n",
    "model.objective = model.reactions.get_by_id(\"BOUNDARY_OXALe\")\n",
    "solution = model.optimize()\n",
    "solution.fluxes[\"BOUNDARY_OXALe\"]"
   ]
  },
  {
   "cell_type": "markdown",
   "metadata": {},
   "source": [
    "Biomass yield glucose"
   ]
  },
  {
   "cell_type": "code",
   "execution_count": 4,
   "metadata": {},
   "outputs": [
    {
     "data": {
      "text/plain": [
       "0.09398547241492919"
      ]
     },
     "execution_count": 4,
     "metadata": {},
     "output_type": "execute_result"
    }
   ],
   "source": [
    "model = model_original.copy()\n",
    "solution = model.optimize()\n",
    "g_dw_biomass_per_mmol_glucose = solution.objective_value / (-1. * solution.fluxes[\"BOUNDARY_GLCe\"])\n",
    "g_dw_biomass_per_mmol_glucose"
   ]
  },
  {
   "cell_type": "markdown",
   "metadata": {},
   "source": [
    "Biomass yield sucrose"
   ]
  },
  {
   "cell_type": "code",
   "execution_count": 5,
   "metadata": {},
   "outputs": [
    {
     "name": "stdout",
     "output_type": "stream",
     "text": [
      "0.18797094482984605\n"
     ]
    }
   ],
   "source": [
    "model = model_original.copy()\n",
    "model0 =model\n",
    "medium_SUCe = model0.medium\n",
    "medium_SUCe['BOUNDARY_GLCe']=0\n",
    "medium_SUCe['BOUNDARY_SUCe']=10\n",
    "#medium_SUCe['BOUNDARY_O2e']=0\n",
    "#medium_SUCe['BOUNDARY_SLFe']=0\n",
    "#medium_SUCe['BOUNDARY_H2Oe']=0\n",
    "#medium_SUCe['BOUNDARY_HNO3e']=0\n",
    "#medium_SUCe['BOUNDARY_PIe']=0\n",
    "#medium_SUCe['BOUNDARY_Ke']=0\n",
    "#medium_SUCe['BOUNDARY_CAe']=0\n",
    "\n",
    "model0.medium=medium_SUCe\n",
    "\n",
    "\n",
    "with model0:\n",
    "    solution = model0.optimize()\n",
    "    g_dw_biomass_per_mmol_sucrose = solution.objective_value / (-1. * solution.fluxes[\"BOUNDARY_SUCe\"])\n",
    "    print(g_dw_biomass_per_mmol_sucrose)"
   ]
  },
  {
   "cell_type": "markdown",
   "metadata": {},
   "source": [
    "Biomass yield lactose"
   ]
  },
  {
   "cell_type": "code",
   "execution_count": 6,
   "metadata": {},
   "outputs": [
    {
     "name": "stdout",
     "output_type": "stream",
     "text": [
      "0.18797094482984975\n"
     ]
    }
   ],
   "source": [
    "model = model_original.copy()\n",
    "model0 =model\n",
    "medium_SUCe = model0.medium\n",
    "medium_SUCe['BOUNDARY_GLCe']=0\n",
    "medium_SUCe['BOUNDARY_SUCe']=0\n",
    "medium_SUCe['BOUNDARY_LACTe']=10\n",
    "#medium_SUCe['BOUNDARY_O2e']=0\n",
    "#medium_SUCe['BOUNDARY_SLFe']=0\n",
    "#medium_SUCe['BOUNDARY_H2Oe']=0\n",
    "#medium_SUCe['BOUNDARY_HNO3e']=0\n",
    "#medium_SUCe['BOUNDARY_PIe']=0\n",
    "#medium_SUCe['BOUNDARY_Ke']=0\n",
    "#medium_SUCe['BOUNDARY_CAe']=0\n",
    "\n",
    "model0.medium=medium_SUCe\n",
    "\n",
    "\n",
    "with model0:\n",
    "    solution = model0.optimize()\n",
    "    g_dw_biomass_per_mmol_sucrose = solution.objective_value / (-1. * solution.fluxes[\"BOUNDARY_LACTe\"])\n",
    "    print(g_dw_biomass_per_mmol_sucrose)"
   ]
  },
  {
   "cell_type": "code",
   "execution_count": 13,
   "metadata": {},
   "outputs": [
    {
     "name": "stderr",
     "output_type": "stream",
     "text": [
      "'' is not a valid SBML 'SId'.\n"
     ]
    },
    {
     "data": {
      "text/plain": [
       "-7.778196990495942"
      ]
     },
     "execution_count": 13,
     "metadata": {},
     "output_type": "execute_result"
    }
   ],
   "source": [
    "model_original = read_sbml_model('Model_iJB1325_ATCC1015.xml')\n",
    "model = model_original.copy()\n",
    "model.objective \n",
    "solution = model.optimize()\n",
    "solution.fluxes[\"BOUNDARY_O2e\"]"
   ]
  },
  {
   "cell_type": "code",
   "execution_count": 16,
   "metadata": {},
   "outputs": [
    {
     "name": "stderr",
     "output_type": "stream",
     "text": [
      "'' is not a valid SBML 'SId'.\n"
     ]
    },
    {
     "data": {
      "text/plain": [
       "-7.778196990495942"
      ]
     },
     "execution_count": 16,
     "metadata": {},
     "output_type": "execute_result"
    }
   ],
   "source": [
    "model_original = read_sbml_model('Model_iJB1325_ATCC1015.xml')\n",
    "model = model_original.copy()\n",
    "\n",
    "solution = model.optimize()\n",
    "solution.fluxes[\"BOUNDARY_O2e\"]"
   ]
  },
  {
   "cell_type": "code",
   "execution_count": 5,
   "metadata": {},
   "outputs": [
    {
     "name": "stderr",
     "output_type": "stream",
     "text": [
      "'' is not a valid SBML 'SId'.\n"
     ]
    },
    {
     "data": {
      "text/plain": [
       "-10.0"
      ]
     },
     "execution_count": 5,
     "metadata": {},
     "output_type": "execute_result"
    }
   ],
   "source": [
    "model_original = read_sbml_model('Model_iJB1325_ATCC1015.xml')\n",
    "model = model_original.copy()\n",
    "\n",
    "solution = model.optimize()\n",
    "solution.fluxes[\"BOUNDARY_GLCe\"]"
   ]
  },
  {
   "cell_type": "code",
   "execution_count": 7,
   "metadata": {},
   "outputs": [
    {
     "name": "stderr",
     "output_type": "stream",
     "text": [
      "'' is not a valid SBML 'SId'.\n"
     ]
    },
    {
     "data": {
      "text/plain": [
       "0.12083195183892691"
      ]
     },
     "execution_count": 7,
     "metadata": {},
     "output_type": "execute_result"
    }
   ],
   "source": [
    "model_original = read_sbml_model('Model_iJB1325_ATCC1015.xml')\n",
    "model = model_original.copy()\n",
    "solution = model.optimize()\n",
    "g_dw_biomass_per_mmol_glucose = solution.objective_value / (-1. * solution.fluxes[\"BOUNDARY_O2e\"])\n",
    "g_dw_biomass_per_mmol_glucose"
   ]
  },
  {
   "cell_type": "code",
   "execution_count": 9,
   "metadata": {},
   "outputs": [
    {
     "name": "stderr",
     "output_type": "stream",
     "text": [
      "'' is not a valid SBML 'SId'.\n",
      "<ipython-input-9-08d25d66c29d>:4: RuntimeWarning: divide by zero encountered in double_scalars\n",
      "  g_dw_biomass_per_mmol_glucose = solution.objective_value / (-1. * solution.fluxes[\"BOUNDARY_OXALe\"])\n"
     ]
    },
    {
     "data": {
      "text/plain": [
       "-inf"
      ]
     },
     "execution_count": 9,
     "metadata": {},
     "output_type": "execute_result"
    }
   ],
   "source": [
    "model_original = read_sbml_model('Model_iJB1325_ATCC1015.xml')\n",
    "model = model_original.copy()\n",
    "solution = model.optimize()\n",
    "g_dw_biomass_per_mmol_glucose = solution.objective_value / (-1. * solution.fluxes[\"BOUNDARY_OXALe\"])\n",
    "g_dw_biomass_per_mmol_glucose"
   ]
  },
  {
   "cell_type": "code",
   "execution_count": null,
   "metadata": {},
   "outputs": [],
   "source": []
  }
 ],
 "metadata": {
  "kernelspec": {
   "display_name": "Python 3",
   "language": "python",
   "name": "python3"
  },
  "language_info": {
   "codemirror_mode": {
    "name": "ipython",
    "version": 3
   },
   "file_extension": ".py",
   "mimetype": "text/x-python",
   "name": "python",
   "nbconvert_exporter": "python",
   "pygments_lexer": "ipython3",
   "version": "3.8.5"
  }
 },
 "nbformat": 4,
 "nbformat_minor": 4
}
