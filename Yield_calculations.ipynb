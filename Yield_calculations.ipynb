{
 "cells": [
  {
   "cell_type": "markdown",
   "metadata": {},
   "source": [
    "To calculate the maximum theoretical yield for sucrose carbon source to Oxalic acid we can either do it by hand or computationally.\n",
    "\n",
    "Knowing that our model  medium is run with glucose we first check the growth rate, productivity and yield with glucose as a carbon source employing the ‘r51’ reaction, which is enzyme Oxaloacetate acetylhydrolase, that converts Oxaloacetate to Oxalate.\n",
    "\n",
    "Firstly, we calculate the model organism growth rate(muMAX) with glucose as a carbon source:"
   ]
  },
  {
   "cell_type": "code",
   "execution_count": 46,
   "metadata": {},
   "outputs": [
    {
     "name": "stderr",
     "output_type": "stream",
     "text": [
      "'' is not a valid SBML 'SId'.\n"
     ]
    },
    {
     "name": "stdout",
     "output_type": "stream",
     "text": [
      "uMax GLCe [ h^-1]: 0.9398547241492455\n"
     ]
    }
   ],
   "source": [
    "from cobra.io import read_sbml_model\n",
    "model = read_sbml_model('Model_iJB1325_ATCC1015.xml')\n",
    "model0 =model\n",
    "muMAX_GLCe = model0.optimize().objective_value\n",
    "print(\"uMax GLCe [ h^-1]:\", muMAX_GLCe)"
   ]
  },
  {
   "cell_type": "markdown",
   "metadata": {},
   "source": [
    "In addition, we now change our model objective to calculate the desired reaction, in this case ‘r51 and we optimize it again. Alos, we calculate the maximum theoretical yield for oxalate with glucose carbon source"
   ]
  },
  {
   "cell_type": "code",
   "execution_count": 34,
   "metadata": {},
   "outputs": [
    {
     "name": "stderr",
     "output_type": "stream",
     "text": [
      "'' is not a valid SBML 'SId'.\n"
     ]
    },
    {
     "name": "stdout",
     "output_type": "stream",
     "text": [
      "Max. oxalate production GLCe [mmol gDW^-1 h^-1]: 685.5670103092733\n",
      "Theoretical max. yield [mmol-oxalic / mmol-GLCe]: 68.55670103092733\n"
     ]
    }
   ],
   "source": [
    "# Oxalate Yield calculations for Glucose (GLCe) substrate\n",
    "\n",
    "from cobra.io import read_sbml_model\n",
    "model = read_sbml_model('Model_iJB1325_ATCC1015.xml')\n",
    "model1 = model\n",
    "model1.objective = model1.reactions.get_by_id('r51')\n",
    "solution = model1.optimize()\n",
    "Oxalate_production_GLCe = solution.fluxes['r51']\n",
    "model1.reactions.get_by_id('BOUNDARY_GLCe')\n",
    "Oxalate_yield_GLCe = Oxalate_production_GLCe / (-1. * solution.fluxes['BOUNDARY_GLCe'])\n",
    "\n",
    "print(\"Max. oxalate production GLCe [mmol gDW^-1 h^-1]:\", Oxalate_production_GLCe)\n",
    "print(\"Theoretical max. yield [mmol-oxalic / mmol-GLCe]:\", Oxalate_yield_GLCe)\n"
   ]
  },
  {
   "cell_type": "markdown",
   "metadata": {},
   "source": [
    "On the other hand, we now want to calculate the above parameters but changing glucose to sucrose in the medium to properly calculate the maximum theoretical yield from sucrose to oxalic acid like in the reference papers."
   ]
  },
  {
   "cell_type": "markdown",
   "metadata": {},
   "source": [
    "Knowing that model medium contains:"
   ]
  },
  {
   "cell_type": "code",
   "execution_count": 47,
   "metadata": {},
   "outputs": [
    {
     "data": {
      "text/plain": [
       "{'BOUNDARY_GLCe': 10.0,\n",
       " 'BOUNDARY_H2Oe': 1000.0,\n",
       " 'BOUNDARY_HNO3e': 1000.0,\n",
       " 'BOUNDARY_O2e': 1000.0,\n",
       " 'BOUNDARY_PIe': 1000.0,\n",
       " 'BOUNDARY_SLFe': 1000.0,\n",
       " 'BOUNDARY_Ke': 1000.0,\n",
       " 'BOUNDARY_CAe': 1000.0}"
      ]
     },
     "execution_count": 47,
     "metadata": {},
     "output_type": "execute_result"
    }
   ],
   "source": [
    "# First we check the medium composition\n",
    "model2 = model\n",
    "medium = model2.medium\n",
    "medium"
   ]
  },
  {
   "cell_type": "markdown",
   "metadata": {},
   "source": [
    "We change the carbon source from GLUCOSE to SUCROSE"
   ]
  },
  {
   "cell_type": "code",
   "execution_count": 48,
   "metadata": {},
   "outputs": [
    {
     "data": {
      "text/plain": [
       "{'BOUNDARY_GLCe': 0,\n",
       " 'BOUNDARY_H2Oe': 1000.0,\n",
       " 'BOUNDARY_HNO3e': 1000.0,\n",
       " 'BOUNDARY_O2e': 1000.0,\n",
       " 'BOUNDARY_PIe': 1000.0,\n",
       " 'BOUNDARY_SLFe': 1000.0,\n",
       " 'BOUNDARY_Ke': 1000.0,\n",
       " 'BOUNDARY_CAe': 1000.0,\n",
       " 'BOUNDARY_SUCe': 10}"
      ]
     },
     "execution_count": 48,
     "metadata": {},
     "output_type": "execute_result"
    }
   ],
   "source": [
    "#Now we change the medium; we change the carbon source from GLUCOSE to SUCROSE\n",
    "medium_SUCe = model2.medium\n",
    "medium_SUCe['BOUNDARY_GLCe']=0\n",
    "medium_SUCe['BOUNDARY_SUCe']=10\n",
    "model2.medium=medium_SUCe\n",
    "medium_SUCe\n",
    "\n"
   ]
  },
  {
   "cell_type": "markdown",
   "metadata": {},
   "source": [
    "Now, we calculate the model organism growth rate(muMAX) with sucrose as a carbon source:"
   ]
  },
  {
   "cell_type": "code",
   "execution_count": 49,
   "metadata": {},
   "outputs": [
    {
     "name": "stdout",
     "output_type": "stream",
     "text": [
      "uMax SUCe [ h^-1]: 1.87970944829849\n"
     ]
    }
   ],
   "source": [
    "muMAX_SUCe = model2.optimize().objective_value\n",
    "print(\"uMax SUCe [ h^-1]:\", muMAX_SUCe)"
   ]
  },
  {
   "cell_type": "code",
   "execution_count": 21,
   "metadata": {},
   "outputs": [
    {
     "name": "stdout",
     "output_type": "stream",
     "text": [
      "Max. oxalate production SUCe [mmol gDW^-1 h^-1]: 871.1340206185463\n",
      "Theoretical max. yield OXALATE [mmol-oxalic / mmol-SUCe]: 87.11340206185463\n"
     ]
    }
   ],
   "source": [
    "# We now calculate the Oxalate yield with sucrose carbon source\n",
    "\n",
    "model2.objective = model2.reactions.get_by_id('r51')\n",
    "solution = model2.optimize()\n",
    "Oxalate_production_SUCe = solution.fluxes['r51']\n",
    "model2.reactions.get_by_id('BOUNDARY_SUCe')\n",
    "Oxalate_yield_SUCe = Oxalate_production_SUCe / (-1. * solution.fluxes['BOUNDARY_SUCe'])\n",
    "\n",
    "print(\"Max. oxalate production SUCe [mmol gDW^-1 h^-1]:\", Oxalate_production_SUCe)\n",
    "print(\"Theoretical max. yield OXALATE [mmol-oxalic / mmol-SUCe]:\", Oxalate_yield_SUCe)\n",
    "\n"
   ]
  },
  {
   "cell_type": "markdown",
   "metadata": {},
   "source": [
    "Analyzing the differences between glucose and sucrose, we can clearly observe a significant increase in the growth rate, productivity and yield of A.niger  of approximately 0,94 , 185 and 18, respectively.\n"
   ]
  },
  {
   "cell_type": "code",
   "execution_count": null,
   "metadata": {},
   "outputs": [],
   "source": []
  }
 ],
 "metadata": {
  "kernelspec": {
   "display_name": "Python 3",
   "language": "python",
   "name": "python3"
  },
  "language_info": {
   "codemirror_mode": {
    "name": "ipython",
    "version": 3
   },
   "file_extension": ".py",
   "mimetype": "text/x-python",
   "name": "python",
   "nbconvert_exporter": "python",
   "pygments_lexer": "ipython3",
   "version": "3.8.5"
  }
 },
 "nbformat": 4,
 "nbformat_minor": 4
}
